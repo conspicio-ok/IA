{
 "cells": [
  {
   "cell_type": "code",
   "execution_count": null,
   "id": "f0c9915b",
   "metadata": {},
   "outputs": [],
   "source": [
    "# import library\n",
    "\n",
    "import numpy as np\n",
    "import matplotlib.pylot as plt\n",
    "from sklearn.datasets import make_blobs"
   ]
  },
  {
   "cell_type": "code",
   "execution_count": null,
   "id": "93d0201e",
   "metadata": {},
   "outputs": [],
   "source": [
    "# Create default plants\n",
    "\n",
    "x_plant, y_plant = make_blobs(n_samples=100, n_features=2, centers=2, random_state=0)\n",
    "y_plant = y_plant.reshape((y_plant.shape[0], 1))\n",
    "print('dimension de x : ', x_plant.shape)\n",
    "print('dimension de y : ', y_plant.shape)\n",
    "\n",
    "# Graphics\n",
    "plt.scatter(x_plant[:,0], x_plant[:,1], c=y_plant, cmap='summer')\n",
    "plt.show"
   ]
  }
 ],
 "metadata": {
  "language_info": {
   "name": "python"
  }
 },
 "nbformat": 4,
 "nbformat_minor": 5
}
